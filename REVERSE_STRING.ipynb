{
 "cells": [
  {
   "cell_type": "markdown",
   "id": "b6f5ebb7",
   "metadata": {},
   "source": [
    "10. Reverse a String Without Using Built-in Functions\n",
    "\n",
    "Sample Input:\n",
    "\n",
    "text = \"Python\"\n",
    "\n",
    "Sample Output:\n",
    "\n",
    "nohtyP\n"
   ]
  },
  {
   "cell_type": "code",
   "execution_count": 3,
   "id": "2abf65d6",
   "metadata": {},
   "outputs": [
    {
     "name": "stdout",
     "output_type": "stream",
     "text": [
      "nohtyP --reverse string\n"
     ]
    }
   ],
   "source": [
    "text=\"Python\"\n",
    "reverse=text[::-1]\n",
    "print(reverse,\"--reverse string\")"
   ]
  },
  {
   "cell_type": "code",
   "execution_count": null,
   "id": "4446f7b1",
   "metadata": {},
   "outputs": [
    {
     "name": "stdout",
     "output_type": "stream",
     "text": [
      "Pyhon\n"
     ]
    }
   ],
   "source": [
    "text = \"Pyhon\"\n",
    "reversed_text = \"\"\n",
    "\n",
    "for char in text:\n",
    "    reversed_text = char + reversed_text\n",
    "\n",
    "print(reversed_text)\n"
   ]
  }
 ],
 "metadata": {
  "kernelspec": {
   "display_name": "base",
   "language": "python",
   "name": "python3"
  },
  "language_info": {
   "codemirror_mode": {
    "name": "ipython",
    "version": 3
   },
   "file_extension": ".py",
   "mimetype": "text/x-python",
   "name": "python",
   "nbconvert_exporter": "python",
   "pygments_lexer": "ipython3",
   "version": "3.12.7"
  }
 },
 "nbformat": 4,
 "nbformat_minor": 5
}
