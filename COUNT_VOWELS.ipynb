{
 "cells": [
  {
   "cell_type": "markdown",
   "id": "2c27cfdc",
   "metadata": {},
   "source": [
    "7. Count Vowels in a String\n",
    "\n",
    "Sample Input:\n",
    "\n",
    "text = \"Hello World\"\n",
    "\n",
    "Sample Output:\n",
    "\n",
    "Vowels: 3\n",
    "________________________________________\n"
   ]
  },
  {
   "cell_type": "code",
   "execution_count": 1,
   "id": "c585820c",
   "metadata": {},
   "outputs": [
    {
     "name": "stdout",
     "output_type": "stream",
     "text": [
      "Vowels: 3\n"
     ]
    }
   ],
   "source": [
    "text = \"Hello World\"\n",
    "vowels = \"aeiouAEIOU\"\n",
    "count = 0\n",
    "\n",
    "for char in text:\n",
    "    if char in vowels:\n",
    "        count += 1\n",
    "\n",
    "print(\"Vowels:\", count)\n"
   ]
  },
  {
   "cell_type": "code",
   "execution_count": 8,
   "id": "e98b2a86",
   "metadata": {},
   "outputs": [
    {
     "name": "stdout",
     "output_type": "stream",
     "text": [
      "vowels: 3\n"
     ]
    }
   ],
   "source": [
    "vowels=\"aeiouAEIOU\"\n",
    "def count_vowels(text):\n",
    "    count=0\n",
    "    for char in text:\n",
    "        if char in vowels:\n",
    "            count+=1\n",
    "    print(\"vowels:\" ,count)\n",
    "        \n",
    "count_vowels('hello world')"
   ]
  }
 ],
 "metadata": {
  "kernelspec": {
   "display_name": "base",
   "language": "python",
   "name": "python3"
  },
  "language_info": {
   "codemirror_mode": {
    "name": "ipython",
    "version": 3
   },
   "file_extension": ".py",
   "mimetype": "text/x-python",
   "name": "python",
   "nbconvert_exporter": "python",
   "pygments_lexer": "ipython3",
   "version": "3.12.7"
  }
 },
 "nbformat": 4,
 "nbformat_minor": 5
}
