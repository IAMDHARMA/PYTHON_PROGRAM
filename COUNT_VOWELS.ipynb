{
 "cells": [
  {
   "cell_type": "markdown",
   "id": "2c27cfdc",
   "metadata": {},
   "source": [
    "7. Count Vowels in a String\n",
    "\n",
    "Sample Input:\n",
    "\n",
    "text = \"Hello World\"\n",
    "\n",
    "Sample Output:\n",
    "\n",
    "Vowels: 3\n",
    "________________________________________\n"
   ]
  },
  {
   "cell_type": "code",
   "execution_count": 1,
   "id": "c585820c",
   "metadata": {},
   "outputs": [
    {
     "name": "stdout",
     "output_type": "stream",
     "text": [
      "Vowels: 3\n"
     ]
    }
   ],
   "source": [
    "text = \"Hello World\"\n",
    "vowels = \"aeiouAEIOU\"\n",
    "count = 0\n",
    "\n",
    "for char in text:\n",
    "    if char in vowels:\n",
    "        count += 1\n",
    "\n",
    "print(\"Vowels:\", count)\n"
   ]
  },
  {
   "cell_type": "code",
   "execution_count": 6,
   "id": "e98b2a86",
   "metadata": {},
   "outputs": [
    {
     "name": "stdout",
     "output_type": "stream",
     "text": [
      "vowels: 3\n",
      "consonat: 7\n"
     ]
    }
   ],
   "source": [
    "vowels=\"aeiouAEIOU\"\n",
    "def count_vowels(text=input()):\n",
    "    space=text.replace(\" \",\"\")\n",
    "    count=0\n",
    "    count_1=0\n",
    "    for char in space:\n",
    "        if char in vowels:\n",
    "            count+=1\n",
    "        elif char not in vowels:\n",
    "            text.replace(\" \",\"\")\n",
    "            count_1+=1\n",
    "            \n",
    "    print(\"vowels:\" ,count)\n",
    "    print('consonat:',count_1)\n",
    "        \n",
    "count_vowels()"
   ]
  },
  {
   "cell_type": "code",
   "execution_count": 1,
   "id": "0cbb24d2",
   "metadata": {},
   "outputs": [
    {
     "name": "stdout",
     "output_type": "stream",
     "text": [
      "Vowels: 6\n",
      "Consonants: 9\n"
     ]
    }
   ],
   "source": [
    "def count_vowels_consonants(text):\n",
    "    vowels = \"aeiouAEIOU\"\n",
    "    v_count = c_count = 0\n",
    "\n",
    "    for char in text:\n",
    "        if char.isalpha():  # Only consider alphabetic characters\n",
    "            if char in vowels:\n",
    "                v_count += 1\n",
    "            else:\n",
    "                c_count += 1\n",
    "\n",
    "    return v_count, c_count\n",
    "\n",
    "# Example usage\n",
    "sentence = \"Python is Awesome\"\n",
    "vowels, consonants = count_vowels_consonants(sentence)\n",
    "print(\"Vowels:\", vowels)\n",
    "print(\"Consonants:\", consonants)\n"
   ]
  }
 ],
 "metadata": {
  "kernelspec": {
   "display_name": "base",
   "language": "python",
   "name": "python3"
  },
  "language_info": {
   "codemirror_mode": {
    "name": "ipython",
    "version": 3
   },
   "file_extension": ".py",
   "mimetype": "text/x-python",
   "name": "python",
   "nbconvert_exporter": "python",
   "pygments_lexer": "ipython3",
   "version": "3.12.7"
  }
 },
 "nbformat": 4,
 "nbformat_minor": 5
}
