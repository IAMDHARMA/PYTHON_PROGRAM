{
 "cells": [
  {
   "cell_type": "markdown",
   "id": "8c9fc9ec",
   "metadata": {},
   "source": [
    "5. Remove Duplicates from a List\n",
    "\n",
    "Problem: Remove duplicate elements while preserving order.\n",
    "\n",
    "Sample Input:\n",
    "\n",
    "items = [1, 2, 2, 3, 4, 4, 5]\n",
    "\n",
    "Sample Output:\n",
    "\n",
    "[1, 2, 3, 4, 5]"
   ]
  },
  {
   "cell_type": "code",
   "execution_count": 4,
   "id": "4b91dcb1",
   "metadata": {},
   "outputs": [
    {
     "name": "stdout",
     "output_type": "stream",
     "text": [
      "[1, 2, 3, 4, 5]\n"
     ]
    }
   ],
   "source": [
    "items = [1, 2, 2, 3, 4, 4, 5]\n",
    "result = []\n",
    "seen = set()\n",
    "\n",
    "for item in items:\n",
    "    if item not in seen:\n",
    "        result.append(item)\n",
    "        seen.add(item)\n",
    "\n",
    "print(result)\n"
   ]
  }
 ],
 "metadata": {
  "kernelspec": {
   "display_name": "base",
   "language": "python",
   "name": "python3"
  },
  "language_info": {
   "codemirror_mode": {
    "name": "ipython",
    "version": 3
   },
   "file_extension": ".py",
   "mimetype": "text/x-python",
   "name": "python",
   "nbconvert_exporter": "python",
   "pygments_lexer": "ipython3",
   "version": "3.12.7"
  }
 },
 "nbformat": 4,
 "nbformat_minor": 5
}
