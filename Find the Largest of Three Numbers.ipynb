{
 "cells": [
  {
   "cell_type": "code",
   "execution_count": 15,
   "id": "116b43d4",
   "metadata": {},
   "outputs": [
    {
     "name": "stdout",
     "output_type": "stream",
     "text": [
      "don't put all value in zero\n"
     ]
    }
   ],
   "source": [
    "def find_largest_three_num():\n",
    "    try:\n",
    "        a = int(input('num_1: '))\n",
    "        b = int(input('num_2: '))\n",
    "        c = int(input('num_3: '))\n",
    "\n",
    "        if a > b and a > c:\n",
    "            return f\"{a} = a is greater\"\n",
    "        elif b > a and b > c:\n",
    "            return f\"{b} = b is greater\"\n",
    "        elif c > a and c > b:\n",
    "            return f\"{c} = c is greater\"\n",
    "        else:\n",
    "            print(\"don't put all value in zero\")\n",
    "    except ValueError:\n",
    "        return \"Please enter valid numbers\"\n",
    "\n",
    "# Call the function\n",
    "greater = find_largest_three_num()\n"
   ]
  }
 ],
 "metadata": {
  "kernelspec": {
   "display_name": "base",
   "language": "python",
   "name": "python3"
  },
  "language_info": {
   "codemirror_mode": {
    "name": "ipython",
    "version": 3
   },
   "file_extension": ".py",
   "mimetype": "text/x-python",
   "name": "python",
   "nbconvert_exporter": "python",
   "pygments_lexer": "ipython3",
   "version": "3.12.7"
  }
 },
 "nbformat": 4,
 "nbformat_minor": 5
}
