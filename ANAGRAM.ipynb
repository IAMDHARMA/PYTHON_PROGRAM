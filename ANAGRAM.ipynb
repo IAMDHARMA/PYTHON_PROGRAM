{
 "cells": [
  {
   "cell_type": "markdown",
   "id": "e8ae05ab",
   "metadata": {},
   "source": [
    "Check if String is Anagram\n",
    "Write a function to check if two strings are anagrams of each other (contain the same characters in any order).\n",
    "\n",
    "Example:\n",
    "\n",
    "Input: \"listen\" and \"silent\"\n",
    "\n",
    "Output: True\n"
   ]
  },
  {
   "cell_type": "code",
   "execution_count": 1,
   "id": "59f52a07",
   "metadata": {},
   "outputs": [
    {
     "name": "stdout",
     "output_type": "stream",
     "text": [
      "this is ANAGRAM\n"
     ]
    }
   ],
   "source": [
    "word=input('enter the first word:')\n",
    "word2=input('enter the second word')\n",
    "\n",
    "if len(word)==len(word2):\n",
    "    if sorted(word)==sorted(word2):\n",
    "        print(\"this is ANAGRAM\")\n",
    "    else:\n",
    "        print(\"this not ANAGRAME\")\n",
    "else:\n",
    "    print(\"this not ANAGRAME\")"
   ]
  },
  {
   "cell_type": "code",
   "execution_count": 4,
   "id": "6deaa662",
   "metadata": {},
   "outputs": [
    {
     "name": "stdout",
     "output_type": "stream",
     "text": [
      "True\n"
     ]
    }
   ],
   "source": [
    "str1 = input(\"Enter the first string: \")\n",
    "str2 = input(\"Enter the second string: \")\n",
    "# Example strings  \n",
    "\n",
    "# Remove spaces and convert to lowercase\n",
    "str1_clean = str1.replace(\" \", \"\").lower()\n",
    "str2_clean = str2.replace(\" \", \"\").lower()\n",
    "\n",
    "# Count characters using dictionaries\n",
    "count1 = {}\n",
    "count2 = {}\n",
    "\n",
    "for char in str1_clean:\n",
    "    count1[char] = count1.get(char, 0) + 1\n",
    "\n",
    "for char in str2_clean:\n",
    "    count2[char] = count2.get(char, 0) + 1\n",
    "\n",
    "are_anagrams = count1 == count2\n",
    "\n",
    "print(are_anagrams)  # True"
   ]
  }
 ],
 "metadata": {
  "kernelspec": {
   "display_name": "base",
   "language": "python",
   "name": "python3"
  },
  "language_info": {
   "codemirror_mode": {
    "name": "ipython",
    "version": 3
   },
   "file_extension": ".py",
   "mimetype": "text/x-python",
   "name": "python",
   "nbconvert_exporter": "python",
   "pygments_lexer": "ipython3",
   "version": "3.12.7"
  }
 },
 "nbformat": 4,
 "nbformat_minor": 5
}
