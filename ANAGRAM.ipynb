{
 "cells": [
  {
   "cell_type": "markdown",
   "id": "e8ae05ab",
   "metadata": {},
   "source": [
    "Check if String is Anagram\n",
    "Write a function to check if two strings are anagrams of each other (contain the same characters in any order).\n",
    "\n",
    "Example:\n",
    "\n",
    "Input: \"listen\" and \"silent\"\n",
    "\n",
    "Output: True\n"
   ]
  },
  {
   "cell_type": "code",
   "execution_count": 1,
   "id": "59f52a07",
   "metadata": {},
   "outputs": [
    {
     "name": "stdout",
     "output_type": "stream",
     "text": [
      "this is ANAGRAM\n"
     ]
    }
   ],
   "source": [
    "word=input('enter the first word:')\n",
    "word2=input('enter the second word')\n",
    "\n",
    "if len(word)==len(word2):\n",
    "    if sorted(word)==sorted(word2):\n",
    "        print(\"this is ANAGRAM\")\n",
    "    else:\n",
    "        print(\"this not ANAGRAME\")\n",
    "else:\n",
    "    print(\"this not ANAGRAME\")"
   ]
  },
  {
   "cell_type": "code",
   "execution_count": 1,
   "id": "6deaa662",
   "metadata": {},
   "outputs": [
    {
     "name": "stdout",
     "output_type": "stream",
     "text": [
      "False\n"
     ]
    }
   ],
   "source": [
    "str1 = input(\"Enter the first string: \")\n",
    "str2 = input(\"Enter the second string: \")\n",
    "# Example strings  \n",
    "\n",
    "# Remove spaces and convert to lowercase\n",
    "str1_clean = str1.replace(\" \", \"\").lower()\n",
    "str2_clean = str2.replace(\" \", \"\").lower()\n",
    "\n",
    "# Count characters using dictionaries\n",
    "count1 = {}\n",
    "count2 = {}\n",
    "\n",
    "for char in str1_clean:\n",
    "    count1[char] = count1.get(char, 0) + 1\n",
    "\n",
    "for char in str2_clean:\n",
    "    count2[char] = count2.get(char, 0) + 1\n",
    "\n",
    "are_anagrams = count1 == count2\n",
    "\n",
    "print(are_anagrams)  # True"
   ]
  },
  {
   "cell_type": "code",
   "execution_count": 13,
   "id": "975ff297",
   "metadata": {},
   "outputs": [
    {
     "name": "stdout",
     "output_type": "stream",
     "text": [
      "Anagram\n"
     ]
    }
   ],
   "source": [
    "def is_anagram(w1, w2):\n",
    "    d = {}\n",
    "    for c in w1:\n",
    "        d[c] = d.get(c, 0) + 1\n",
    "    for c in w2:\n",
    "        d[c] = d.get(c, 0) - 1\n",
    "    print(\"Anagram\" * (all(v == 0 for v in d.values())) + \"Not an anagram\" * (not all(v == 0 for v in d.values())))\n",
    "\n",
    "is_anagram(\"listen\", \"silent\")\n"
   ]
  },
  {
   "cell_type": "code",
   "execution_count": 10,
   "id": "de1e61cd",
   "metadata": {},
   "outputs": [
    {
     "name": "stdout",
     "output_type": "stream",
     "text": [
      "anagram\n"
     ]
    }
   ],
   "source": [
    "class program():\n",
    "    def __init__(self):\n",
    "        word=input('enter the word_1:')\n",
    "        word2=input('enter the word_2:')\n",
    "        if len(word)==len(word2):\n",
    "            self.w1=word.lower()\n",
    "            self.w2=word2.lower()\n",
    "        else:\n",
    "            print('not an anagram')\n",
    "    def is_anagram(self):\n",
    "        d={}\n",
    "        for char in self.w1:\n",
    "            d[char]=d.get(char,0)+1\n",
    "        for char in self.w2:\n",
    "            d[char]=d.get(char,0)-1   \n",
    "        print('anagram'*(all(v==0 for v in d.values()))+'not anagram'*(not all(v==0 for v in d.values())))     \n",
    "        \n",
    "deploy=program()\n",
    "deploy.is_anagram()\n"
   ]
  }
 ],
 "metadata": {
  "kernelspec": {
   "display_name": "base",
   "language": "python",
   "name": "python3"
  },
  "language_info": {
   "codemirror_mode": {
    "name": "ipython",
    "version": 3
   },
   "file_extension": ".py",
   "mimetype": "text/x-python",
   "name": "python",
   "nbconvert_exporter": "python",
   "pygments_lexer": "ipython3",
   "version": "3.12.7"
  }
 },
 "nbformat": 4,
 "nbformat_minor": 5
}
