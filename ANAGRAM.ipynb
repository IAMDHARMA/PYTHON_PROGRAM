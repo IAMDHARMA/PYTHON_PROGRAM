{
 "cells": [
  {
   "cell_type": "markdown",
   "id": "e8ae05ab",
   "metadata": {},
   "source": [
    "Check if String is Anagram\n",
    "Write a function to check if two strings are anagrams of each other (contain the same characters in any order).\n",
    "\n",
    "Example:\n",
    "\n",
    "Input: \"listen\" and \"silent\"\n",
    "\n",
    "Output: True\n"
   ]
  },
  {
   "cell_type": "code",
   "execution_count": 10,
   "id": "59f52a07",
   "metadata": {},
   "outputs": [
    {
     "name": "stdout",
     "output_type": "stream",
     "text": [
      "this is ANAGRAM\n"
     ]
    }
   ],
   "source": [
    "word=input('enter the first word:')\n",
    "word2=input('enter the second word')\n",
    "\n",
    "if len(word)==len(word2):\n",
    "    if sorted(word)==sorted(word2):\n",
    "        print(\"this is ANAGRAM\")\n",
    "    else:\n",
    "        print(\"this not ANAGRAME\")\n",
    "else:\n",
    "    print(\"this not ANAGRAME\")"
   ]
  }
 ],
 "metadata": {
  "kernelspec": {
   "display_name": "base",
   "language": "python",
   "name": "python3"
  },
  "language_info": {
   "codemirror_mode": {
    "name": "ipython",
    "version": 3
   },
   "file_extension": ".py",
   "mimetype": "text/x-python",
   "name": "python",
   "nbconvert_exporter": "python",
   "pygments_lexer": "ipython3",
   "version": "3.12.7"
  }
 },
 "nbformat": 4,
 "nbformat_minor": 5
}
