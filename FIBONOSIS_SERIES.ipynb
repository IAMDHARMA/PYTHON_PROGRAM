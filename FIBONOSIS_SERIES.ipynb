{
 "cells": [
  {
   "cell_type": "code",
   "execution_count": 15,
   "id": "0b720e79",
   "metadata": {},
   "outputs": [
    {
     "name": "stdout",
     "output_type": "stream",
     "text": [
      "Fibonacci Series:\n",
      "0 1 1 2 3 5 8 13 21 34 "
     ]
    }
   ],
   "source": [
    "#the certain range\n",
    "def fibonossi():\n",
    "    n =int(input('enter the num:'))  \n",
    "    a, b = 0, 1\n",
    "    count = 0\n",
    "    print(\"Fibonacci Series:\")\n",
    "    while count < n:\n",
    "        print(a, end=\" \")\n",
    "        a, b = b, a + b\n",
    "        count+=1\n",
    "fibonossi()"
   ]
  }
 ],
 "metadata": {
  "kernelspec": {
   "display_name": "base",
   "language": "python",
   "name": "python3"
  },
  "language_info": {
   "codemirror_mode": {
    "name": "ipython",
    "version": 3
   },
   "file_extension": ".py",
   "mimetype": "text/x-python",
   "name": "python",
   "nbconvert_exporter": "python",
   "pygments_lexer": "ipython3",
   "version": "3.12.7"
  }
 },
 "nbformat": 4,
 "nbformat_minor": 5
}
