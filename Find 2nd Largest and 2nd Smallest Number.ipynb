{
 "cells": [
  {
   "cell_type": "code",
   "execution_count": 4,
   "id": "8525e5d5",
   "metadata": {},
   "outputs": [
    {
     "name": "stdout",
     "output_type": "stream",
     "text": [
      "Second Largest: 20\n",
      "Second Smallest: 5\n"
     ]
    }
   ],
   "source": [
    "numbers = [10, 5, 20, 8, 15, 2, 25]\n",
    "\n",
    "# Remove duplicates to avoid issues\n",
    "unique_numbers = list(set(numbers))\n",
    "\n",
    "# Initialize\n",
    "largest = second_largest = float('-inf')\n",
    "smallest = second_smallest = float('inf')\n",
    "\n",
    "# Find largest and second largest\n",
    "for num in unique_numbers:\n",
    "    if num > largest:\n",
    "        second_largest = largest\n",
    "        largest = num\n",
    "    elif num > second_largest:\n",
    "        second_largest = num\n",
    "\n",
    "\n",
    "# Find smallest and second smallest\n",
    "for num in unique_numbers:\n",
    "    if num < smallest:\n",
    "        second_smallest = smallest\n",
    "        smallest = num\n",
    "    elif num < second_smallest:\n",
    "        second_smallest = num\n",
    "\n",
    "print(\"Second Largest:\", second_largest)\n",
    "print(\"Second Smallest:\", second_smallest)"
   ]
  },
  {
   "cell_type": "code",
   "execution_count": 5,
   "id": "75bb6ce2",
   "metadata": {},
   "outputs": [
    {
     "name": "stdout",
     "output_type": "stream",
     "text": [
      "Second Largest: 20\n",
      "Second Smallest: 5\n"
     ]
    }
   ],
   "source": [
    "def find_second_largest_smallest(numbers):\n",
    "    # Remove duplicates to avoid repetition\n",
    "    unique_numbers = list(set(numbers))\n",
    "    \n",
    "    # If there are fewer than 2 unique numbers, return None\n",
    "    if len(unique_numbers) < 2:\n",
    "        return None, None\n",
    "    \n",
    "    # Initialize values\n",
    "    largest = second_largest = float('-inf')\n",
    "    smallest = second_smallest = float('inf')\n",
    "    \n",
    "    # Find largest and second largest\n",
    "    for num in unique_numbers:\n",
    "        if num > largest:\n",
    "            second_largest = largest\n",
    "            largest = num\n",
    "        elif num > second_largest:\n",
    "            second_largest = num\n",
    "    \n",
    "    # Find smallest and second smallest\n",
    "    for num in unique_numbers:\n",
    "        if num < smallest:\n",
    "            second_smallest = smallest\n",
    "            smallest = num\n",
    "        elif num < second_smallest:\n",
    "            second_smallest = num\n",
    "    \n",
    "    return second_largest, second_smallest\n",
    "\n",
    "\n",
    "# Example usage\n",
    "numbers = [10, 5, 20, 8, 15, 2, 25]\n",
    "second_largest, second_smallest = find_second_largest_smallest(numbers)\n",
    "print(\"Second Largest:\", second_largest)\n",
    "print(\"Second Smallest:\", second_smallest)\n"
   ]
  },
  {
   "cell_type": "code",
   "execution_count": 22,
   "id": "9365f4d6",
   "metadata": {},
   "outputs": [
    {
     "name": "stdout",
     "output_type": "stream",
     "text": [
      "6\n"
     ]
    }
   ],
   "source": [
    "def second_largest_and_second_smallest(number):\n",
    "    unique_numbers = list(set(number))\n",
    "    if len(unique_numbers)<2:\n",
    "        return None, None\n",
    "    largest=second_largest=float('-inf')\n",
    "    \n",
    "\n",
    "    for num in unique_numbers:\n",
    "        if num > largest:\n",
    "            second_largest=largest\n",
    "            largest=num\n",
    "        elif num > second_largest:\n",
    "            \n",
    "            second_largest=num\n",
    "    return second_largest\n",
    "numbers=[1,2,3,4,5,6,7]\n",
    "second_largest=second_largest_and_second_smallest(numbers)\n",
    "print(second_largest)\n"
   ]
  }
 ],
 "metadata": {
  "kernelspec": {
   "display_name": "base",
   "language": "python",
   "name": "python3"
  },
  "language_info": {
   "codemirror_mode": {
    "name": "ipython",
    "version": 3
   },
   "file_extension": ".py",
   "mimetype": "text/x-python",
   "name": "python",
   "nbconvert_exporter": "python",
   "pygments_lexer": "ipython3",
   "version": "3.12.7"
  }
 },
 "nbformat": 4,
 "nbformat_minor": 5
}
