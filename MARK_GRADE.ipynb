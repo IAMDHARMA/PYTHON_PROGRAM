{
 "cells": [
  {
   "cell_type": "code",
   "execution_count": 3,
   "id": "99e25d33-05bc-4570-87d7-3e5747f99830",
   "metadata": {},
   "outputs": [
    {
     "name": "stdin",
     "output_type": "stream",
     "text": [
      "ENTER THE MARK -1\n"
     ]
    },
    {
     "name": "stdout",
     "output_type": "stream",
     "text": [
      "-1 invalid num\n"
     ]
    }
   ],
   "source": [
    "mark=int(input('ENTER THE MARK'))\n",
    "if mark<=100 and mark>=90:\n",
    "    print(mark,\"-A GRADE\")\n",
    "elif (mark>=80 and mark<90):\n",
    "    print(mark,\"-B GRADE\")\n",
    "elif (mark>=70 and mark<80):\n",
    "    print(mark,\"-C GRADE\")\n",
    "elif(mark<=0 or mark>=100):\n",
    "    print(mark,'invalid num')\n",
    "else:\n",
    "    print(mark,\"-D GRADE\")\n",
    "    \n"
   ]
  },
  {
   "cell_type": "code",
   "execution_count": null,
   "id": "567a23bd-58d1-45c1-b110-59861b32db4a",
   "metadata": {},
   "outputs": [],
   "source": []
  }
 ],
 "metadata": {
  "kernelspec": {
   "display_name": "Python [conda env:base] *",
   "language": "python",
   "name": "conda-base-py"
  },
  "language_info": {
   "codemirror_mode": {
    "name": "ipython",
    "version": 3
   },
   "file_extension": ".py",
   "mimetype": "text/x-python",
   "name": "python",
   "nbconvert_exporter": "python",
   "pygments_lexer": "ipython3",
   "version": "3.12.7"
  }
 },
 "nbformat": 4,
 "nbformat_minor": 5
}
