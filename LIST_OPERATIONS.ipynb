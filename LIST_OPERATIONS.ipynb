{
 "cells": [
  {
   "cell_type": "markdown",
   "id": "bcf1d9b5-789c-4b5d-9c90-d41be3339231",
   "metadata": {},
   "source": [
    "LIST OPERTIONS\n",
    "\n",
    "  l=[1,22,3,44,55,6,11,1200]\n",
    "1. Add the number `4` at the 6th index of the list `l`.  \n",
    "2. Remove the value `44` from the list `l`.  \n",
    "3. Append the number `88` to the end of the list `l`.  \n",
    "4. Remove the value at the 2nd index of the list `l`.  \n",
    "5. Merge the list `m = [1, 2, 3, 546]` into the list `l`.\n",
    "\n",
    "\n",
    "\n",
    "\n"
   ]
  },
  {
   "cell_type": "code",
   "execution_count": null,
   "id": "1c833f8d-acc5-4ee7-8595-54f50fc27846",
   "metadata": {},
   "outputs": [
    {
     "data": {
      "text/plain": [
       "[1, 22, 3, 44, 55, 6, 4, 1200]"
      ]
     },
     "execution_count": 2,
     "metadata": {},
     "output_type": "execute_result"
    }
   ],
   "source": [
    "l=[1,22,3,44,55,6,11,1200]\n",
    "l[6]=4\n",
    "l"
   ]
  },
  {
   "cell_type": "code",
   "execution_count": 4,
   "id": "0d5681b7-71df-4521-8266-200613956081",
   "metadata": {},
   "outputs": [
    {
     "data": {
      "text/plain": [
       "[1, 22, 3, 55, 6, 11, 1200]"
      ]
     },
     "execution_count": 4,
     "metadata": {},
     "output_type": "execute_result"
    }
   ],
   "source": [
    "l=[1,22,3,44,55,6,11,1200]\n",
    "l.remove(44)\n",
    "l"
   ]
  },
  {
   "cell_type": "code",
   "execution_count": 6,
   "id": "4345b778-761a-4a3b-a11a-3cbe74472c67",
   "metadata": {},
   "outputs": [
    {
     "data": {
      "text/plain": [
       "[1, 22, 3, 44, 55, 6, 11, 1200, 88]"
      ]
     },
     "execution_count": 6,
     "metadata": {},
     "output_type": "execute_result"
    }
   ],
   "source": [
    "l=[1,22,3,44,55,6,11,1200]\n",
    "l.append(88)\n",
    "l"
   ]
  },
  {
   "cell_type": "code",
   "execution_count": 7,
   "id": "7c9427e6-7fd7-47e6-8b6f-c6f14a3319c7",
   "metadata": {},
   "outputs": [
    {
     "data": {
      "text/plain": [
       "[1, 22, 44, 55, 6, 11, 1200]"
      ]
     },
     "execution_count": 7,
     "metadata": {},
     "output_type": "execute_result"
    }
   ],
   "source": [
    "l=[1,22,3,44,55,6,11,1200]\n",
    "l.pop(2)\n",
    "l"
   ]
  },
  {
   "cell_type": "code",
   "execution_count": 8,
   "id": "c19fc419-29dc-4359-87c0-78057edab866",
   "metadata": {},
   "outputs": [
    {
     "data": {
      "text/plain": [
       "[1, 22, 3, 44, 55, 6, 11, 1200, 1, 2, 3, 546]"
      ]
     },
     "execution_count": 8,
     "metadata": {},
     "output_type": "execute_result"
    }
   ],
   "source": [
    "l=[1,22,3,44,55,6,11,1200]\n",
    "l2=[1,2,3,546]\n",
    "l.extend(l2)\n",
    "l"
   ]
  },
  {
   "cell_type": "code",
   "execution_count": null,
   "id": "d088028e-90f4-4854-b8f7-b578fc92a8a4",
   "metadata": {},
   "outputs": [],
   "source": []
  }
 ],
 "metadata": {
  "kernelspec": {
   "display_name": "Python [conda env:base] *",
   "language": "python",
   "name": "conda-base-py"
  },
  "language_info": {
   "codemirror_mode": {
    "name": "ipython",
    "version": 3
   },
   "file_extension": ".py",
   "mimetype": "text/x-python",
   "name": "python",
   "nbconvert_exporter": "python",
   "pygments_lexer": "ipython3",
   "version": "3.12.7"
  }
 },
 "nbformat": 4,
 "nbformat_minor": 5
}
