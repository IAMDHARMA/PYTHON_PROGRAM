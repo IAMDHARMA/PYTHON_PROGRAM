{
 "cells": [
  {
   "cell_type": "markdown",
   "id": "e3a06ad2-3fdb-4f21-a40e-b8a2bf9a316e",
   "metadata": {},
   "source": [
    "STRING OPERATIONS\n",
    "\n",
    "s = \"HelloWorld\"\n",
    "1. Insert the substring `\"Python\"` at the 6th index of the string .  \n",
    "2. Remove the substring `\"World\"` from the string `s`.  \n",
    "3. Append the substring `\"2024\"` to the end of the string `s`.  \n",
    "4. Remove the character at the 2nd index of the string `s`.  \n",
    "5. Concatenate the string `t = \"Programming\"` to the string `s`.\n"
   ]
  },
  {
   "cell_type": "code",
   "execution_count": 10,
   "id": "292b93a8-60ab-48df-a6e9-04faccbc602f",
   "metadata": {},
   "outputs": [
    {
     "data": {
      "text/plain": [
       "'HellopythonWorld'"
      ]
     },
     "execution_count": 10,
     "metadata": {},
     "output_type": "execute_result"
    }
   ],
   "source": [
    "s = \"HelloWorld\"\n",
    "new=s[:5]+'python'+s[5:]\n",
    "new\n"
   ]
  },
  {
   "cell_type": "code",
   "execution_count": 15,
   "id": "d30e572c-a961-4201-addd-e345c131d335",
   "metadata": {},
   "outputs": [
    {
     "data": {
      "text/plain": [
       "'Hello'"
      ]
     },
     "execution_count": 15,
     "metadata": {},
     "output_type": "execute_result"
    }
   ],
   "source": [
    "s = \"HelloWorld\"\n",
    "new=s.replace('World','')\n",
    "new"
   ]
  },
  {
   "cell_type": "code",
   "execution_count": null,
   "id": "da0940c1-20ed-4c95-8d22-fbf2b0c7c749",
   "metadata": {},
   "outputs": [
    {
     "data": {
      "text/plain": [
       "'HelloWorld2024'"
      ]
     },
     "execution_count": 16,
     "metadata": {},
     "output_type": "execute_result"
    }
   ],
   "source": [
    "s = \"HelloWorld\"\n",
    "new=s+\"2024\"\n",
    "new"
   ]
  },
  {
   "cell_type": "code",
   "execution_count": 19,
   "id": "88ec3e8b-2833-41c6-a896-79a4f2dfe4e7",
   "metadata": {},
   "outputs": [
    {
     "data": {
      "text/plain": [
       "'HeloWorld'"
      ]
     },
     "execution_count": 19,
     "metadata": {},
     "output_type": "execute_result"
    }
   ],
   "source": [
    "s = \"HelloWorld\"\n",
    "new=s[:2]+s[3:]\n",
    "new"
   ]
  },
  {
   "cell_type": "code",
   "execution_count": 2,
   "id": "5d372707-1340-454b-9036-4253361c6f5f",
   "metadata": {},
   "outputs": [
    {
     "data": {
      "text/plain": [
       "'HelloWorldprograming'"
      ]
     },
     "execution_count": 2,
     "metadata": {},
     "output_type": "execute_result"
    }
   ],
   "source": [
    "s = \"HelloWorld\"\n",
    "t=\"programing\"\n",
    "new=s+t\n",
    "new"
   ]
  }
 ],
 "metadata": {
  "kernelspec": {
   "display_name": "base",
   "language": "python",
   "name": "python3"
  },
  "language_info": {
   "codemirror_mode": {
    "name": "ipython",
    "version": 3
   },
   "file_extension": ".py",
   "mimetype": "text/x-python",
   "name": "python",
   "nbconvert_exporter": "python",
   "pygments_lexer": "ipython3",
   "version": "3.12.7"
  }
 },
 "nbformat": 4,
 "nbformat_minor": 5
}
