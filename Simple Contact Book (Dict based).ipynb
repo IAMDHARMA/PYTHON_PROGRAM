{
 "cells": [
  {
   "cell_type": "code",
   "execution_count": 2,
   "id": "6b9d5c15",
   "metadata": {},
   "outputs": [
    {
     "name": "stdout",
     "output_type": "stream",
     "text": [
      "Contact: 9911223344\n"
     ]
    }
   ],
   "source": [
    "def search_contact(contact_book, name):\n",
    "    return f\"Contact: {contact_book.get(name, 'Not found')}\"\n",
    "\n",
    "# Example\n",
    "contacts = {\"Ravi\": \"9876543210\", \"Anu\": \"9911223344\"}\n",
    "print(search_contact(contacts, \"Anu\"))  # Output: Contact: 9911223344\n"
   ]
  }
 ],
 "metadata": {
  "kernelspec": {
   "display_name": "base",
   "language": "python",
   "name": "python3"
  },
  "language_info": {
   "codemirror_mode": {
    "name": "ipython",
    "version": 3
   },
   "file_extension": ".py",
   "mimetype": "text/x-python",
   "name": "python",
   "nbconvert_exporter": "python",
   "pygments_lexer": "ipython3",
   "version": "3.12.7"
  }
 },
 "nbformat": 4,
 "nbformat_minor": 5
}
