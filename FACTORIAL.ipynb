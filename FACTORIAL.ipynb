{
 "cells": [
  {
   "cell_type": "markdown",
   "id": "7acc61f3",
   "metadata": {},
   "source": [
    "8. Find Factorial of a Number\n",
    "\n",
    "Sample Input:\n",
    "\n",
    "n = 5\n",
    "\n",
    "Sample Output:\n",
    "\n",
    "Factorial: 120\n"
   ]
  },
  {
   "cell_type": "code",
   "execution_count": null,
   "id": "76194585",
   "metadata": {},
   "outputs": [],
   "source": [
    "n = 5\n",
    "factorial = 1\n",
    "\n",
    "for i in range(1, n + 1):\n",
    "    factorial *= i\n",
    "\n",
    "print(\"Factorial:\", factorial)\n"
   ]
  }
 ],
 "metadata": {
  "kernelspec": {
   "display_name": "base",
   "language": "python",
   "name": "python3"
  },
  "language_info": {
   "name": "python",
   "version": "3.12.7"
  }
 },
 "nbformat": 4,
 "nbformat_minor": 5
}
