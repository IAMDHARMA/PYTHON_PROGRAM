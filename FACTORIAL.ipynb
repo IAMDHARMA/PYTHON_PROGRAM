{
 "cells": [
  {
   "cell_type": "markdown",
   "id": "7acc61f3",
   "metadata": {},
   "source": [
    "8. Find Factorial of a Number\n",
    "\n",
    "Sample Input:\n",
    "\n",
    "n = 5\n",
    "\n",
    "Sample Output:\n",
    "\n",
    "Factorial: 120\n"
   ]
  },
  {
   "cell_type": "code",
   "execution_count": 1,
   "id": "76194585",
   "metadata": {},
   "outputs": [
    {
     "name": "stdout",
     "output_type": "stream",
     "text": [
      "Factorial: 120\n"
     ]
    }
   ],
   "source": [
    "n = 5\n",
    "factorial = 1\n",
    "\n",
    "for i in range(1, n + 1):\n",
    "    factorial *= i\n",
    "\n",
    "print(\"Factorial:\", factorial)\n"
   ]
  },
  {
   "cell_type": "code",
   "execution_count": 3,
   "id": "927423c1",
   "metadata": {},
   "outputs": [
    {
     "name": "stdout",
     "output_type": "stream",
     "text": [
      "factorial: 24\n"
     ]
    }
   ],
   "source": [
    "def find_fact(n,factorial=1):\n",
    "    for i in range(1,n+1):\n",
    "        factorial*=i\n",
    "    print(\"factorial:\",factorial)\n",
    "\n",
    "find_fact(4)"
   ]
  }
 ],
 "metadata": {
  "kernelspec": {
   "display_name": "base",
   "language": "python",
   "name": "python3"
  },
  "language_info": {
   "codemirror_mode": {
    "name": "ipython",
    "version": 3
   },
   "file_extension": ".py",
   "mimetype": "text/x-python",
   "name": "python",
   "nbconvert_exporter": "python",
   "pygments_lexer": "ipython3",
   "version": "3.12.7"
  }
 },
 "nbformat": 4,
 "nbformat_minor": 5
}
