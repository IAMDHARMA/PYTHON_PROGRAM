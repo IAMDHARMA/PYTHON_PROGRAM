{
 "cells": [
  {
   "cell_type": "markdown",
   "id": "274c184e",
   "metadata": {},
   "source": [
    "4. Sort in Ascending and Descending Order\n",
    "\n",
    "Problem: Sort a list both ways.\n",
    "\n",
    "Sample Input:\n",
    "\n",
    "data = [34, 12, 5, 66, 29]\n",
    "\n",
    "Sample Output:\n",
    "\n",
    "Ascending: [5, 12, 29, 34, 66]\n",
    "\n",
    "Descending: [66, 34, 29, 12, 5]\n",
    "________________________________________\n"
   ]
  },
  {
   "cell_type": "code",
   "execution_count": 2,
   "id": "c0ca9b92",
   "metadata": {},
   "outputs": [
    {
     "name": "stdout",
     "output_type": "stream",
     "text": [
      "[5, 12, 29, 34, 66] --accending\n",
      "[66, 34, 29, 12, 5] --decending\n"
     ]
    }
   ],
   "source": [
    "data = [34, 12, 5, 66, 29]\n",
    "accending=sorted(data)\n",
    "data.sort(reverse=True)\n",
    "print(accending,\"--accending\")\n",
    "print(data,\"--decending\")"
   ]
  },
  {
   "cell_type": "code",
   "execution_count": 1,
   "id": "7f991eeb",
   "metadata": {},
   "outputs": [
    {
     "name": "stdout",
     "output_type": "stream",
     "text": [
      "Ascending Order: [1, 2, 5, 7, 9]\n",
      "Descending Order: [9, 7, 5, 2, 1]\n"
     ]
    }
   ],
   "source": [
    "# Input list\n",
    "numbers = [5, 2, 9, 1, 7]\n",
    "\n",
    "# Ascending Order\n",
    "for i in range(len(numbers)):\n",
    "    for j in range(i + 1, len(numbers)):\n",
    "        if numbers[i] > numbers[j]:\n",
    "            numbers[i], numbers[j] = numbers[j], numbers[i]\n",
    "\n",
    "print(\"Ascending Order:\", numbers)\n",
    "\n",
    "# Descending Order\n",
    "for i in range(len(numbers)):\n",
    "    for j in range(i + 1, len(numbers)):\n",
    "        if numbers[i] < numbers[j]:\n",
    "            numbers[i], numbers[j] = numbers[j], numbers[i]\n",
    "\n",
    "print(\"Descending Order:\", numbers)\n"
   ]
  },
  {
   "cell_type": "code",
   "execution_count": 5,
   "id": "9732292d",
   "metadata": {},
   "outputs": [
    {
     "name": "stdout",
     "output_type": "stream",
     "text": [
      "Ascending Order: [1, 2, 5, 7, 9]\n"
     ]
    }
   ],
   "source": [
    "numbers = [5, 2, 9, 1, 7]\n",
    "\n",
    "# Ascending\n",
    "for i in range(len(numbers)):\n",
    "    for j in range(i+1, len(numbers)):\n",
    "        if numbers[i] > numbers[j]:\n",
    "            # Swap values\n",
    "\n",
    "            temp = numbers[i]\n",
    "            numbers[i] = numbers[j]\n",
    "            numbers[j] = temp\n",
    "\n",
    "print(\"Ascending Order:\", numbers)\n"
   ]
  },
  {
   "cell_type": "code",
   "execution_count": 6,
   "id": "267bf25c",
   "metadata": {},
   "outputs": [
    {
     "name": "stdout",
     "output_type": "stream",
     "text": [
      "decending order: [9, 7, 5, 2, 1]\n"
     ]
    }
   ],
   "source": [
    "numbers = [5, 2, 9, 1, 7]\n",
    "\n",
    "#decending\n",
    "for i in range(len(numbers)):\n",
    "    for j in range(i+1,len(numbers)):\n",
    "        if numbers[i]<numbers[j]:\n",
    "            temp=numbers[i]\n",
    "            numbers[i]=numbers[j]\n",
    "            numbers[j]=temp\n",
    "\n",
    "print(\"decending order:\",numbers)"
   ]
  }
 ],
 "metadata": {
  "kernelspec": {
   "display_name": "base",
   "language": "python",
   "name": "python3"
  },
  "language_info": {
   "codemirror_mode": {
    "name": "ipython",
    "version": 3
   },
   "file_extension": ".py",
   "mimetype": "text/x-python",
   "name": "python",
   "nbconvert_exporter": "python",
   "pygments_lexer": "ipython3",
   "version": "3.12.7"
  }
 },
 "nbformat": 4,
 "nbformat_minor": 5
}
