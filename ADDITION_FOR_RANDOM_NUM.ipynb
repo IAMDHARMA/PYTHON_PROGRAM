{
 "cells": [
  {
   "cell_type": "code",
   "execution_count": null,
   "id": "ebe9a933",
   "metadata": {},
   "outputs": [
    {
     "name": "stdout",
     "output_type": "stream",
     "text": [
      "0+7\n",
      "1+6\n",
      "2+5\n",
      "3+4\n",
      "4+3\n",
      "5+2\n",
      "6+1\n",
      "7+0\n"
     ]
    }
   ],
   "source": [
    "random_num=int(input('enter the num'))\n",
    "def find():\n",
    "    for i in range(random_num+1):\n",
    "        for j in range(random_num+1):\n",
    "            if i+j==random_num:\n",
    "                 print(f\"{i}+{j}\")\n",
    "\n",
    "find()"
   ]
  }
 ],
 "metadata": {
  "kernelspec": {
   "display_name": "base",
   "language": "python",
   "name": "python3"
  },
  "language_info": {
   "codemirror_mode": {
    "name": "ipython",
    "version": 3
   },
   "file_extension": ".py",
   "mimetype": "text/x-python",
   "name": "python",
   "nbconvert_exporter": "python",
   "pygments_lexer": "ipython3",
   "version": "3.12.7"
  }
 },
 "nbformat": 4,
 "nbformat_minor": 5
}
