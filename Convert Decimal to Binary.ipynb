{
 "cells": [
  {
   "cell_type": "code",
   "execution_count": null,
   "id": "064847dd",
   "metadata": {},
   "outputs": [],
   "source": [
    "def decimal_to_binary(n):\n",
    "    binary = ''\n",
    "    while n > 0:\n",
    "        binary = str(n % 2) + binary\n",
    "        n = n // 2\n",
    "    return binary or '0'  # handles n = 0\n",
    "\n",
    "print(decimal_to_binary(13))  # Output: 1101\n"
   ]
  }
 ],
 "metadata": {
  "language_info": {
   "name": "python"
  }
 },
 "nbformat": 4,
 "nbformat_minor": 5
}
