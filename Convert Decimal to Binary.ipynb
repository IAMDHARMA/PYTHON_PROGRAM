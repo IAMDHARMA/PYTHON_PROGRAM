{
 "cells": [
  {
   "cell_type": "code",
   "execution_count": 1,
   "id": "064847dd",
   "metadata": {},
   "outputs": [
    {
     "name": "stdout",
     "output_type": "stream",
     "text": [
      "1101\n"
     ]
    }
   ],
   "source": [
    "def decimal_to_binary(n):\n",
    "    binary = ''\n",
    "    while n > 0:\n",
    "        binary = str(n % 2) + binary\n",
    "        n = n // 2\n",
    "    return binary or '0'  # handles n = 0\n",
    "\n",
    "print(decimal_to_binary(13))  # Output: 1101\n"
   ]
  }
 ],
 "metadata": {
  "kernelspec": {
   "display_name": "base",
   "language": "python",
   "name": "python3"
  },
  "language_info": {
   "codemirror_mode": {
    "name": "ipython",
    "version": 3
   },
   "file_extension": ".py",
   "mimetype": "text/x-python",
   "name": "python",
   "nbconvert_exporter": "python",
   "pygments_lexer": "ipython3",
   "version": "3.12.7"
  }
 },
 "nbformat": 4,
 "nbformat_minor": 5
}
