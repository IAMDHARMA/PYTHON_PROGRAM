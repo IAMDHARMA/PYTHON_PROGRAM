{
 "cells": [
  {
   "cell_type": "markdown",
   "id": "75028bb6",
   "metadata": {},
   "source": [
    "Format: 5 uppercase letters + 4 digits + 1 uppercase letter \n",
    " \n",
    "Input: \"ABCDE1234F\"   \n",
    "\n",
    "Output: \"Valid PAN\" "
   ]
  },
  {
   "cell_type": "code",
   "execution_count": 1,
   "id": "346ac7d4",
   "metadata": {},
   "outputs": [
    {
     "name": "stdout",
     "output_type": "stream",
     "text": [
      "Valid PAN\n",
      "Invalid PAN\n"
     ]
    }
   ],
   "source": [
    "def is_valid_pan(pan):\n",
    "    if len(pan) != 10:\n",
    "        return \"Invalid PAN\"\n",
    "    if pan[:5].isalpha() and pan[:5].isupper() and \\\n",
    "       pan[5:9].isdigit() and \\\n",
    "       pan[9].isalpha() and pan[9].isupper():\n",
    "        return \"Valid PAN\"\n",
    "    else:\n",
    "        return \"Invalid PAN\"\n",
    "\n",
    "# Example usage\n",
    "print(is_valid_pan(\"ABCDE1234F\"))  # Valid PAN\n",
    "print(is_valid_pan(\"abcde1234f\"))  # Invalid PAN\n"
   ]
  }
 ],
 "metadata": {
  "kernelspec": {
   "display_name": "base",
   "language": "python",
   "name": "python3"
  },
  "language_info": {
   "codemirror_mode": {
    "name": "ipython",
    "version": 3
   },
   "file_extension": ".py",
   "mimetype": "text/x-python",
   "name": "python",
   "nbconvert_exporter": "python",
   "pygments_lexer": "ipython3",
   "version": "3.12.7"
  }
 },
 "nbformat": 4,
 "nbformat_minor": 5
}
