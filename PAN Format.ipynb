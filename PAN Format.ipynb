{
 "cells": [
  {
   "cell_type": "markdown",
   "id": "75028bb6",
   "metadata": {},
   "source": [
    "Format: 5 uppercase letters + 4 digits + 1 uppercase letter \n",
    " \n",
    "Input: \"ABCDE1234F\"   \n",
    "\n",
    "Output: \"Valid PAN\" "
   ]
  },
  {
   "cell_type": "code",
   "execution_count": null,
   "id": "346ac7d4",
   "metadata": {},
   "outputs": [],
   "source": [
    "def is_valid_pan(pan):\n",
    "    if len(pan) != 10:\n",
    "        return \"Invalid PAN\"\n",
    "    if pan[:5].isalpha() and pan[:5].isupper() and \\\n",
    "       pan[5:9].isdigit() and \\\n",
    "       pan[9].isalpha() and pan[9].isupper():\n",
    "        return \"Valid PAN\"\n",
    "    else:\n",
    "        return \"Invalid PAN\"\n",
    "\n",
    "# Example usage\n",
    "print(is_valid_pan(\"ABCDE1234F\"))  # Valid PAN\n",
    "print(is_valid_pan(\"abcde1234f\"))  # Invalid PAN\n"
   ]
  }
 ],
 "metadata": {
  "language_info": {
   "name": "python"
  }
 },
 "nbformat": 4,
 "nbformat_minor": 5
}
