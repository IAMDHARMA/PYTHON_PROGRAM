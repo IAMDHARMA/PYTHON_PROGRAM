{
 "cells": [
  {
   "cell_type": "code",
   "execution_count": 1,
   "id": "3ed58417",
   "metadata": {},
   "outputs": [
    {
     "name": "stdout",
     "output_type": "stream",
     "text": [
      "8.0\n"
     ]
    }
   ],
   "source": [
    "def add(a,b):\n",
    "    c=a+b\n",
    "    return c\n",
    "def sub(a,b):\n",
    "    c=a-b\n",
    "    return c\n",
    "def multi(a,b):\n",
    "    c=a*b\n",
    "    return c\n",
    "def divi(a,b):\n",
    "    c=a/b\n",
    "    return c\n",
    "\n",
    "num_1=float(input(\"enter the num_1=\"))\n",
    "operation=input('enter the symbols like=+,-,*,/=')\n",
    "num_2=float(input('enter the num_2'))\n",
    "if operation=='+':\n",
    "    print(add(num_1,num_2))\n",
    "elif operation=='-':\n",
    "    print(sub(num_1,num_2))\n",
    "elif operation=='*':\n",
    "    print(multi(num_1,num_2))\n",
    "elif operation=='/':\n",
    "    print(divi(num_1,num_2))"
   ]
  }
 ],
 "metadata": {
  "kernelspec": {
   "display_name": "base",
   "language": "python",
   "name": "python3"
  },
  "language_info": {
   "codemirror_mode": {
    "name": "ipython",
    "version": 3
   },
   "file_extension": ".py",
   "mimetype": "text/x-python",
   "name": "python",
   "nbconvert_exporter": "python",
   "pygments_lexer": "ipython3",
   "version": "3.12.7"
  }
 },
 "nbformat": 4,
 "nbformat_minor": 5
}
