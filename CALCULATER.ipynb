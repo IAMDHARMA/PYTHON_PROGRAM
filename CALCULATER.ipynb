{
 "cells": [
  {
   "cell_type": "code",
   "execution_count": 8,
   "id": "3ed58417",
   "metadata": {},
   "outputs": [
    {
     "name": "stdout",
     "output_type": "stream",
     "text": [
      "7.0\n"
     ]
    }
   ],
   "source": [
    "def add(a,b):\n",
    "    c=a+b\n",
    "    return c\n",
    "def sub(a,b):\n",
    "    c=a-b\n",
    "    return c\n",
    "def multi(a,b):\n",
    "    c=a*b\n",
    "    return c\n",
    "def divi(a,b):\n",
    "    c=a/b\n",
    "    return c\n",
    "\n",
    "num_1=float(input(\"enter the num_1=\"))\n",
    "operation=input('enter the symbols like=+,-,*,/=')\n",
    "num_2=float(input('enter the num_2'))\n",
    "if operation=='+':\n",
    "    print(add(num_1,num_2))\n",
    "elif operation=='-':\n",
    "    print(sub(num_1,num_2))\n",
    "elif operation=='*':\n",
    "    print(multi(num_1,num_2))\n",
    "elif operation=='/':\n",
    "    print(divi(num_1,num_2))\n",
    "else:\n",
    "    print('vaild symbol')"
   ]
  },
  {
   "cell_type": "code",
   "execution_count": 11,
   "id": "599e9ad2",
   "metadata": {},
   "outputs": [
    {
     "name": "stdout",
     "output_type": "stream",
     "text": [
      "Result: Error: Division by zero\n"
     ]
    }
   ],
   "source": [
    "def calc(a, b, oper):\n",
    "    if oper == '+':\n",
    "        return a + b\n",
    "    elif oper == '-':\n",
    "        return a - b\n",
    "    elif oper == '*':\n",
    "        return a * b\n",
    "    elif oper == '/':\n",
    "        if b != 0:\n",
    "            return a / b\n",
    "        else:\n",
    "            return \"Error: Division by zero\"\n",
    "    else:\n",
    "        return \"Invalid operator\"\n",
    "\n",
    "num1 = float(input(\"Enter first number: \"))\n",
    "op = input(\"Enter operator (+, -, *, /): \")\n",
    "num2 = float(input(\"Enter second number: \"))\n",
    "\n",
    "result = calc(num1, num2, op)\n",
    "print(\"Result:\",result)"
   ]
  },
  {
   "cell_type": "code",
   "execution_count": null,
   "id": "42854820",
   "metadata": {},
   "outputs": [],
   "source": [
    "def calculator():\n",
    "    print(\"Simple Calculator\")\n",
    "    print(\"Operations: +, -, *, /\")\n",
    "    \n",
    "    try:\n",
    "        num1 = float(input(\"Enter first number: \"))\n",
    "        op = input(\"Enter operator (+, -, *, /): \")\n",
    "        num2 = float(input(\"Enter second number: \"))\n",
    "\n",
    "        if op == '+':\n",
    "            result = num1 + num2\n",
    "        elif op == '-':\n",
    "            result = num1 - num2\n",
    "        elif op == '*':\n",
    "            result = num1 * num2\n",
    "        elif op == '/':\n",
    "            result = num1 / num2\n",
    "        else:\n",
    "            print(\"Invalid operator\")\n",
    "            return\n",
    "        \n",
    "        print(\"Result:\", result)\n",
    "\n",
    "    except ValueError:\n",
    "        print(\"Error: Please enter valid numbers.\")\n",
    "    except ZeroDivisionError:\n",
    "        print(\"Error: Cannot divide by zero.\")\n",
    "    except Exception as e:\n",
    "        print(f\"Unexpected error: {e}\")\n",
    "\n",
    "calculator()"
   ]
  }
 ],
 "metadata": {
  "kernelspec": {
   "display_name": "base",
   "language": "python",
   "name": "python3"
  },
  "language_info": {
   "codemirror_mode": {
    "name": "ipython",
    "version": 3
   },
   "file_extension": ".py",
   "mimetype": "text/x-python",
   "name": "python",
   "nbconvert_exporter": "python",
   "pygments_lexer": "ipython3",
   "version": "3.12.7"
  }
 },
 "nbformat": 4,
 "nbformat_minor": 5
}
