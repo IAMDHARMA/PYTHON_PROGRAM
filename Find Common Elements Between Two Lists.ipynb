{
 "cells": [
  {
   "cell_type": "code",
   "execution_count": 6,
   "id": "c370f37f",
   "metadata": {},
   "outputs": [
    {
     "name": "stdout",
     "output_type": "stream",
     "text": [
      "Common elements: [3, 4, 5]\n"
     ]
    }
   ],
   "source": [
    "def find_common(list1, list2):\n",
    "    common = []\n",
    "    for item in list1:\n",
    "        if item in list2 and item not in common:\n",
    "            common.append(item)\n",
    "    return common\n",
    "\n",
    "# Example usage\n",
    "a = [1, 2, 3, 4, 5]\n",
    "b = [3, 4, 5, 6, 7]\n",
    "print(\"Common elements:\", find_common(a, b))\n"
   ]
  },
  {
   "cell_type": "code",
   "execution_count": 5,
   "id": "57c331aa",
   "metadata": {},
   "outputs": [
    {
     "data": {
      "text/plain": [
       "'#Find Common Elements Between Two Lists\\nl=[i for i in range(10) ]\\nl2=[i for i in range(10) if i%2==0]\\nl3=[]\\nprint(l,l2)\\nfor i in l:\\n    for j in l2:\\n        if i==j:\\n\\n            l3.append(i)\\nprint(l3)\\n'"
      ]
     },
     "execution_count": 5,
     "metadata": {},
     "output_type": "execute_result"
    }
   ],
   "source": [
    "\"\"\"#Find Common Elements Between Two Lists\n",
    "l=[i for i in range(10) ]\n",
    "l2=[i for i in range(10) if i%2==0]\n",
    "l3=[]\n",
    "print(l,l2)\n",
    "for i in l:\n",
    "    for j in l2:\n",
    "        if i==j:\n",
    "\n",
    "            l3.append(i)\n",
    "print(l3)\n",
    "\"\"\""
   ]
  },
  {
   "cell_type": "code",
   "execution_count": null,
   "id": "444253e3",
   "metadata": {},
   "outputs": [],
   "source": []
  }
 ],
 "metadata": {
  "kernelspec": {
   "display_name": "base",
   "language": "python",
   "name": "python3"
  },
  "language_info": {
   "codemirror_mode": {
    "name": "ipython",
    "version": 3
   },
   "file_extension": ".py",
   "mimetype": "text/x-python",
   "name": "python",
   "nbconvert_exporter": "python",
   "pygments_lexer": "ipython3",
   "version": "3.12.7"
  }
 },
 "nbformat": 4,
 "nbformat_minor": 5
}
