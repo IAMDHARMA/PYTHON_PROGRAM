{
 "cells": [
  {
   "cell_type": "code",
   "execution_count": 2,
   "id": "9729d4f1",
   "metadata": {},
   "outputs": [
    {
     "name": "stdout",
     "output_type": "stream",
     "text": [
      "Merged and Manually Sorted List: [1, 2, 3, 4, 5, 6, 8, 9]\n"
     ]
    }
   ],
   "source": [
    "def merge_and_sort(list1, list2):\n",
    "    # Merge the lists\n",
    "    merged = list1 + list2\n",
    "\n",
    "    # Manual bubble sort\n",
    "    n = len(merged)\n",
    "    for i in range(n):\n",
    "        for j in range(0, n - i - 1):\n",
    "            if merged[j] > merged[j + 1]:\n",
    "                merged[j], merged[j + 1] = merged[j + 1], merged[j]\n",
    "\n",
    "    return merged\n",
    "\n",
    "# Example usage\n",
    "list1 = [5, 2, 9, 1]\n",
    "list2 = [8, 3, 6, 4]\n",
    "\n",
    "result = merge_and_sort(list1, list2)\n",
    "print(\"Merged and Manually Sorted List:\", result)\n"
   ]
  },
  {
   "cell_type": "code",
   "execution_count": 2,
   "id": "754fc7c4",
   "metadata": {},
   "outputs": [
    {
     "name": "stdout",
     "output_type": "stream",
     "text": [
      "Merged and Manually Sorted List: [1, 2, 3, 4, 5, 6, 8, 9]\n"
     ]
    }
   ],
   "source": [
    "def merge_lists(list1, list2):\n",
    "    merged = []\n",
    "\n",
    "    # Append elements from list1\n",
    "    for item in list1:\n",
    "        merged.append(item)\n",
    "\n",
    "    # Append elements from list2\n",
    "    for item in list2:\n",
    "        merged.append(item)\n",
    "\n",
    "    return merged\n",
    "\n",
    "def manual_sort(lst):\n",
    "    n = len(lst)\n",
    "    for i in range(n):\n",
    "        for j in range(0, n - i - 1):\n",
    "            if lst[j] > lst[j + 1]:\n",
    "                lst[j], lst[j + 1] = lst[j + 1], lst[j]\n",
    "    return lst\n",
    "\n",
    "# Sample input\n",
    "list1 = [5, 2, 9, 1]\n",
    "list2 = [8, 3, 6, 4]\n",
    "\n",
    "# Merge without using '+'\n",
    "merged_list = merge_lists(list1, list2)\n",
    "\n",
    "# Manually sort\n",
    "sorted_list = manual_sort(merged_list)\n",
    "\n",
    "print(\"Merged and Manually Sorted List:\", sorted_list)\n"
   ]
  }
 ],
 "metadata": {
  "kernelspec": {
   "display_name": "base",
   "language": "python",
   "name": "python3"
  },
  "language_info": {
   "codemirror_mode": {
    "name": "ipython",
    "version": 3
   },
   "file_extension": ".py",
   "mimetype": "text/x-python",
   "name": "python",
   "nbconvert_exporter": "python",
   "pygments_lexer": "ipython3",
   "version": "3.12.7"
  }
 },
 "nbformat": 4,
 "nbformat_minor": 5
}
