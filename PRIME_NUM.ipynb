{
 "cells": [
  {
   "cell_type": "markdown",
   "id": "7879e7b3",
   "metadata": {},
   "source": [
    "9. Check Prime Number\n",
    "\n",
    "Sample Input:\n",
    "\n",
    "number = 13\n",
    "\n",
    "Sample Output:\n",
    "\n",
    "Prime\n"
   ]
  },
  {
   "cell_type": "code",
   "execution_count": 4,
   "id": "bc325ac9",
   "metadata": {},
   "outputs": [
    {
     "name": "stdout",
     "output_type": "stream",
     "text": [
      "Prime\n"
     ]
    }
   ],
   "source": [
    "number = 13\n",
    "if number > 1:\n",
    "    for i in range(2, number):\n",
    "        if number % i == 0:\n",
    "            print(\"Not Prime\")\n",
    "            break\n",
    "    else:\n",
    "        print(\"Prime\")\n",
    "else:\n",
    "    print(\"Not Prime\")\n"
   ]
  },
  {
   "cell_type": "code",
   "execution_count": 41,
   "id": "f7f8e903",
   "metadata": {},
   "outputs": [
    {
     "name": "stdout",
     "output_type": "stream",
     "text": [
      "prime\n"
     ]
    }
   ],
   "source": [
    "def prime_num(number):\n",
    "    if number>1:\n",
    "        if number==1:\n",
    "            print(number)\n",
    "        for i in range(2,number):\n",
    "            if number%i==0:\n",
    "                print('not prime')\n",
    "                break\n",
    "        else:\n",
    "            print('prime')\n",
    "    else:\n",
    "        print(\"enter more than one and don't enter negative value\")\n",
    "prime_num(5)"
   ]
  }
 ],
 "metadata": {
  "kernelspec": {
   "display_name": "base",
   "language": "python",
   "name": "python3"
  },
  "language_info": {
   "codemirror_mode": {
    "name": "ipython",
    "version": 3
   },
   "file_extension": ".py",
   "mimetype": "text/x-python",
   "name": "python",
   "nbconvert_exporter": "python",
   "pygments_lexer": "ipython3",
   "version": "3.12.7"
  }
 },
 "nbformat": 4,
 "nbformat_minor": 5
}
