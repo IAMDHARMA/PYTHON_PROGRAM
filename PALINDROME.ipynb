{
 "cells": [
  {
   "cell_type": "markdown",
   "id": "8998b614",
   "metadata": {},
   "source": [
    "Write a function to check if a given string is a palindrome (reads the same forwards and backwards).\n",
    "\n",
    "Example:\n",
    "Input: \"madam\"\n",
    "\n",
    "Output: True\n"
   ]
  },
  {
   "cell_type": "code",
   "execution_count": 1,
   "id": "09ab7aa7",
   "metadata": {},
   "outputs": [
    {
     "name": "stdout",
     "output_type": "stream",
     "text": [
      "madam --this is palidrome\n"
     ]
    }
   ],
   "source": [
    "pali=str(input(\"enter the word\"))\n",
    "new=pali[::-1]\n",
    "if pali==new:\n",
    "    print(new,\"--this is palidrome\")\n",
    "else:\n",
    "    print(\"it's not palindrome\")"
   ]
  },
  {
   "cell_type": "code",
   "execution_count": null,
   "id": "1e25e602",
   "metadata": {},
   "outputs": [],
   "source": []
  }
 ],
 "metadata": {
  "kernelspec": {
   "display_name": "base",
   "language": "python",
   "name": "python3"
  },
  "language_info": {
   "codemirror_mode": {
    "name": "ipython",
    "version": 3
   },
   "file_extension": ".py",
   "mimetype": "text/x-python",
   "name": "python",
   "nbconvert_exporter": "python",
   "pygments_lexer": "ipython3",
   "version": "3.12.7"
  }
 },
 "nbformat": 4,
 "nbformat_minor": 5
}
