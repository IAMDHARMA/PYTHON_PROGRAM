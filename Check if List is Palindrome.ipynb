{
 "cells": [
  {
   "cell_type": "code",
   "execution_count": null,
   "id": "7ad9504a",
   "metadata": {},
   "outputs": [],
   "source": [
    "def is_palindrome(lst):\n",
    "    return lst == lst[::-1]\n",
    "\n",
    "# Example usage\n",
    "print(is_palindrome([1, 2, 3, 2, 1]))  # True\n",
    "print(is_palindrome([1, 2, 3, 4]))     # False"
   ]
  }
 ],
 "metadata": {
  "language_info": {
   "name": "python"
  }
 },
 "nbformat": 4,
 "nbformat_minor": 5
}
