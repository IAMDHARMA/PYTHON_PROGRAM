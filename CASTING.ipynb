{
 "cells": [
  {
   "cell_type": "markdown",
   "id": "87ddfdbd-b016-419d-aef3-4e277b6749dd",
   "metadata": {},
   "source": [
    "casting \n",
    "start-int\n",
    "int convert into str,float,complex"
   ]
  },
  {
   "cell_type": "code",
   "execution_count": 2,
   "id": "37f5dcf6-b71b-4d5b-a1ae-fa17af3446e6",
   "metadata": {},
   "outputs": [
    {
     "name": "stdout",
     "output_type": "stream",
     "text": [
      "1\n",
      "1.0\n",
      "(1+0j)\n"
     ]
    }
   ],
   "source": [
    "a=1\n",
    "print(str(a))\n",
    "print(float(a))\n",
    "print(complex(a))"
   ]
  },
  {
   "cell_type": "markdown",
   "id": "d8ba9db5-c311-4675-b3e7-256a64441dee",
   "metadata": {},
   "source": [
    "start-float\n",
    "float convert into str,int,complex"
   ]
  },
  {
   "cell_type": "code",
   "execution_count": 4,
   "id": "9bcafd3c-bae0-490a-a37d-f5498ae42aac",
   "metadata": {},
   "outputs": [
    {
     "name": "stdout",
     "output_type": "stream",
     "text": [
      "2.3\n",
      "(2.3+0j)\n",
      "2\n"
     ]
    }
   ],
   "source": [
    "a1=2.3\n",
    "print(str(a1))\n",
    "print(complex(a1))\n",
    "print(int(a1))"
   ]
  },
  {
   "cell_type": "markdown",
   "id": "4299cf21-f806-47a0-a8dd-b4c3fe236d8a",
   "metadata": {},
   "source": [
    "start-str\n",
    "str convert into int,float,complex"
   ]
  },
  {
   "cell_type": "code",
   "execution_count": 6,
   "id": "74dd6f22-dd4b-4f09-a4a6-3b2303ba0ba2",
   "metadata": {},
   "outputs": [
    {
     "ename": "ValueError",
     "evalue": "invalid literal for int() with base 10: 'dharma'",
     "output_type": "error",
     "traceback": [
      "\u001b[1;31m---------------------------------------------------------------------------\u001b[0m",
      "\u001b[1;31mValueError\u001b[0m                                Traceback (most recent call last)",
      "Cell \u001b[1;32mIn[6], line 2\u001b[0m\n\u001b[0;32m      1\u001b[0m a2\u001b[38;5;241m=\u001b[39m\u001b[38;5;124m'\u001b[39m\u001b[38;5;124mdharma\u001b[39m\u001b[38;5;124m'\u001b[39m\n\u001b[1;32m----> 2\u001b[0m \u001b[38;5;28mprint\u001b[39m(\u001b[38;5;28mint\u001b[39m(a2))\n\u001b[0;32m      3\u001b[0m \u001b[38;5;28mprint\u001b[39m(\u001b[38;5;28mfloat\u001b[39m(a2))\n\u001b[0;32m      4\u001b[0m \u001b[38;5;28mprint\u001b[39m(\u001b[38;5;28mcomplex\u001b[39m(a2))\n",
      "\u001b[1;31mValueError\u001b[0m: invalid literal for int() with base 10: 'dharma'"
     ]
    }
   ],
   "source": [
    "a2='dharma'\n",
    "print(int(a2))\n",
    "print(float(a2))\n",
    "print(complex(a2))\n"
   ]
  },
  {
   "cell_type": "markdown",
   "id": "6bc43712-a126-440f-ad49-1929258d0669",
   "metadata": {},
   "source": [
    "complex into str,int,float"
   ]
  },
  {
   "cell_type": "code",
   "execution_count": 10,
   "id": "dd4dc467-a89d-4a1d-b9e7-6bf1a2309a50",
   "metadata": {},
   "outputs": [
    {
     "name": "stdout",
     "output_type": "stream",
     "text": [
      "(3+3j)\n"
     ]
    },
    {
     "ename": "TypeError",
     "evalue": "int() argument must be a string, a bytes-like object or a real number, not 'complex'",
     "output_type": "error",
     "traceback": [
      "\u001b[1;31m---------------------------------------------------------------------------\u001b[0m",
      "\u001b[1;31mTypeError\u001b[0m                                 Traceback (most recent call last)",
      "Cell \u001b[1;32mIn[10], line 3\u001b[0m\n\u001b[0;32m      1\u001b[0m a3\u001b[38;5;241m=\u001b[39m\u001b[38;5;241m3\u001b[39m\u001b[38;5;241m+\u001b[39m\u001b[38;5;241m3\u001b[39mj\n\u001b[0;32m      2\u001b[0m \u001b[38;5;28mprint\u001b[39m(\u001b[38;5;28mstr\u001b[39m(a3))\n\u001b[1;32m----> 3\u001b[0m \u001b[38;5;28mprint\u001b[39m(\u001b[38;5;28mint\u001b[39m(a3))\n\u001b[0;32m      5\u001b[0m \u001b[38;5;28mprint\u001b[39m(\u001b[38;5;28mfloat\u001b[39m(a3))\n",
      "\u001b[1;31mTypeError\u001b[0m: int() argument must be a string, a bytes-like object or a real number, not 'complex'"
     ]
    }
   ],
   "source": [
    "a3=3+3j\n",
    "print(str(a3))\n",
    "print(int(a3))\n",
    "print(float(a3))"
   ]
  },
  {
   "cell_type": "code",
   "execution_count": 1,
   "id": "21a8b08a-5a14-4a91-8e46-e88be93be39d",
   "metadata": {},
   "outputs": [
    {
     "name": "stdout",
     "output_type": "stream",
     "text": [
      "3\n",
      "3.0\n",
      "(3+0j)\n"
     ]
    }
   ],
   "source": [
    "a4='3'\n",
    "print(int(a4))\n",
    "print(float(a4))\n",
    "print(complex(a4))"
   ]
  },
  {
   "cell_type": "code",
   "execution_count": 3,
   "id": "05584aaa-1caa-41d9-8540-588b61999e7e",
   "metadata": {},
   "outputs": [
    {
     "name": "stdout",
     "output_type": "stream",
     "text": [
      "3.0\n",
      "4.0\n"
     ]
    }
   ],
   "source": [
    "a=3+4j\n",
    "print(a.real)\n",
    "print(a.imag)"
   ]
  }
 ],
 "metadata": {
  "kernelspec": {
   "display_name": "Python [conda env:base] *",
   "language": "python",
   "name": "conda-base-py"
  },
  "language_info": {
   "codemirror_mode": {
    "name": "ipython",
    "version": 3
   },
   "file_extension": ".py",
   "mimetype": "text/x-python",
   "name": "python",
   "nbconvert_exporter": "python",
   "pygments_lexer": "ipython3",
   "version": "3.12.7"
  }
 },
 "nbformat": 4,
 "nbformat_minor": 5
}
