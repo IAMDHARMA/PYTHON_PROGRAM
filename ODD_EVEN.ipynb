{
 "cells": [
  {
   "cell_type": "markdown",
   "id": "557f170d",
   "metadata": {},
   "source": [
    "6. Check Even or Odd\n",
    "\n",
    "Problem: Determine if a number is even or odd.\n",
    "\n",
    "Sample Input:\n",
    "\n",
    "number = 17\n",
    "\n",
    "Sample Output:\n",
    "\n",
    "Odd\n",
    "________________________________________\n"
   ]
  },
  {
   "cell_type": "code",
   "execution_count": 2,
   "id": "24b2d686",
   "metadata": {},
   "outputs": [
    {
     "name": "stdout",
     "output_type": "stream",
     "text": [
      "17 --this num is odd\n"
     ]
    }
   ],
   "source": [
    "number=17\n",
    "if number%2==0:\n",
    "    print(number,'--this num is even')\n",
    "else:\n",
    "    print(number,'--this num is odd')"
   ]
  },
  {
   "cell_type": "code",
   "execution_count": 6,
   "id": "037c996c",
   "metadata": {},
   "outputs": [
    {
     "name": "stdout",
     "output_type": "stream",
     "text": [
      "1 --this num is odd\n"
     ]
    }
   ],
   "source": [
    "def odd_even(number):\n",
    "    if number<=0:\n",
    "        print(\"don't enter negagtive and zero \")\n",
    "    elif number%2==0:\n",
    "        print(number,'--this num is even')\n",
    "    else:\n",
    "        print(number,'--this num is odd')\n",
    "\n",
    "odd_even(1)"
   ]
  }
 ],
 "metadata": {
  "kernelspec": {
   "display_name": "base",
   "language": "python",
   "name": "python3"
  },
  "language_info": {
   "codemirror_mode": {
    "name": "ipython",
    "version": 3
   },
   "file_extension": ".py",
   "mimetype": "text/x-python",
   "name": "python",
   "nbconvert_exporter": "python",
   "pygments_lexer": "ipython3",
   "version": "3.12.7"
  }
 },
 "nbformat": 4,
 "nbformat_minor": 5
}
