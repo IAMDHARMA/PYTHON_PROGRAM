{
 "cells": [
  {
   "cell_type": "code",
   "execution_count": 1,
   "id": "660cc58c",
   "metadata": {},
   "outputs": [
    {
     "name": "stdout",
     "output_type": "stream",
     "text": [
      "Sum: 20\n"
     ]
    }
   ],
   "source": [
    "def sum_of_list(lst):\n",
    "    total = 0\n",
    "    for num in lst:\n",
    "        total += num\n",
    "    return total\n",
    "\n",
    "# Example usage\n",
    "my_list = [2, 4, 6, 8]\n",
    "result = sum_of_list(my_list)\n",
    "print(\"Sum:\", result)\n"
   ]
  },
  {
   "cell_type": "code",
   "execution_count": 2,
   "id": "16cfc54c",
   "metadata": {},
   "outputs": [
    {
     "name": "stdout",
     "output_type": "stream",
     "text": [
      "Sum: 20\n"
     ]
    }
   ],
   "source": [
    "my_list = [2, 4, 6, 8]\n",
    "total = 0\n",
    "for num in my_list:\n",
    "    total += num\n",
    "print(\"Sum:\", total)"
   ]
  }
 ],
 "metadata": {
  "kernelspec": {
   "display_name": "base",
   "language": "python",
   "name": "python3"
  },
  "language_info": {
   "codemirror_mode": {
    "name": "ipython",
    "version": 3
   },
   "file_extension": ".py",
   "mimetype": "text/x-python",
   "name": "python",
   "nbconvert_exporter": "python",
   "pygments_lexer": "ipython3",
   "version": "3.12.7"
  }
 },
 "nbformat": 4,
 "nbformat_minor": 5
}
