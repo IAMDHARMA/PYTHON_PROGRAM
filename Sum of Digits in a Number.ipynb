{
 "cells": [
  {
   "cell_type": "code",
   "execution_count": null,
   "id": "dc002c62",
   "metadata": {},
   "outputs": [],
   "source": [
    "def sum_of_digits(n):\n",
    "    total = 0\n",
    "    while n > 0:\n",
    "        digit = n % 10       # Get the last digit\n",
    "        total += digit       # Add to total\n",
    "        n = n // 10          # Remove the last digit\n",
    "    return total\n",
    "\n",
    "# Example usage\n",
    "number = 12345\n",
    "result = sum_of_digits(number)\n",
    "print(\"Sum of digits:\", result)\n"
   ]
  },
  {
   "cell_type": "code",
   "execution_count": null,
   "id": "182c0ac6",
   "metadata": {},
   "outputs": [],
   "source": []
  }
 ],
 "metadata": {
  "language_info": {
   "name": "python"
  }
 },
 "nbformat": 4,
 "nbformat_minor": 5
}
