{
 "cells": [
  {
   "cell_type": "code",
   "execution_count": 1,
   "id": "dc002c62",
   "metadata": {},
   "outputs": [
    {
     "name": "stdout",
     "output_type": "stream",
     "text": [
      "Sum of digits: 15\n"
     ]
    }
   ],
   "source": [
    "def sum_of_digits(n):\n",
    "    total = 0\n",
    "    while n > 0:\n",
    "        digit = n % 10       # Get the last digit\n",
    "        total += digit       # Add to total\n",
    "        n = n // 10          # Remove the last digit\n",
    "    return total\n",
    "\n",
    "# Example usage\n",
    "number = 12345\n",
    "result = sum_of_digits(number)\n",
    "print(\"Sum of digits:\", result)\n"
   ]
  }
 ],
 "metadata": {
  "kernelspec": {
   "display_name": "base",
   "language": "python",
   "name": "python3"
  },
  "language_info": {
   "codemirror_mode": {
    "name": "ipython",
    "version": 3
   },
   "file_extension": ".py",
   "mimetype": "text/x-python",
   "name": "python",
   "nbconvert_exporter": "python",
   "pygments_lexer": "ipython3",
   "version": "3.12.7"
  }
 },
 "nbformat": 4,
 "nbformat_minor": 5
}
