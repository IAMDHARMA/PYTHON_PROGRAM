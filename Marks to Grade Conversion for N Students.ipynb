{
 "cells": [
  {
   "cell_type": "code",
   "execution_count": 1,
   "id": "62227bb4",
   "metadata": {},
   "outputs": [
    {
     "name": "stdout",
     "output_type": "stream",
     "text": [
      "['A', 'E', 'B', 'A', 'C']\n"
     ]
    }
   ],
   "source": [
    "def convert_to_grades(marks):\n",
    "    grades = []\n",
    "    for mark in marks:\n",
    "        if mark >= 85:\n",
    "            grades.append('A')\n",
    "        elif mark >= 70:\n",
    "            grades.append('B')\n",
    "        elif mark >= 60:\n",
    "            grades.append('C')\n",
    "        elif mark >= 50:\n",
    "            grades.append('D')\n",
    "        elif mark >= 40:\n",
    "            grades.append('E')\n",
    "        else:\n",
    "            grades.append('F')\n",
    "    return grades\n",
    "\n",
    "# Example\n",
    "print(convert_to_grades([85, 40, 77, 92, 60]))  # Output: ['A', 'E', 'B', 'A', 'C']\n"
   ]
  }
 ],
 "metadata": {
  "kernelspec": {
   "display_name": "base",
   "language": "python",
   "name": "python3"
  },
  "language_info": {
   "codemirror_mode": {
    "name": "ipython",
    "version": 3
   },
   "file_extension": ".py",
   "mimetype": "text/x-python",
   "name": "python",
   "nbconvert_exporter": "python",
   "pygments_lexer": "ipython3",
   "version": "3.12.7"
  }
 },
 "nbformat": 4,
 "nbformat_minor": 5
}
