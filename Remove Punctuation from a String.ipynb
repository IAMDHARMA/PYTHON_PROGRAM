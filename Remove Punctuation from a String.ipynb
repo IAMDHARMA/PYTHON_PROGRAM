{
 "cells": [
  {
   "cell_type": "code",
   "execution_count": null,
   "id": "dc238ea5",
   "metadata": {},
   "outputs": [
    {
     "name": "stdout",
     "output_type": "stream",
     "text": [
      "d!.!\n"
     ]
    }
   ],
   "source": [
    "b=\"',','.','[]','!','-'\"\n",
    "def remove_punctuation():\n",
    "    a='d!.!'\n",
    "    for i in a:\n",
    "        # for j in a:\n",
    "        if i in b:\n",
    "            c=a.replace(b,\"\")\n",
    "            a.r\n",
    "    print(c)\n",
    "remove_punctuation()"
   ]
  },
  {
   "cell_type": "code",
   "execution_count": 2,
   "id": "4f648056",
   "metadata": {},
   "outputs": [
    {
     "name": "stdout",
     "output_type": "stream",
     "text": [
      "dsa@ka\n"
     ]
    }
   ],
   "source": [
    "def remove_punctuation():\n",
    "    s=input('enter the sent')\n",
    "    cleaned_string=s.strip(',.@#$%&*?/')\n",
    "    print(cleaned_string)\n",
    "\n",
    "remove_punctuation()"
   ]
  }
 ],
 "metadata": {
  "kernelspec": {
   "display_name": "base",
   "language": "python",
   "name": "python3"
  },
  "language_info": {
   "codemirror_mode": {
    "name": "ipython",
    "version": 3
   },
   "file_extension": ".py",
   "mimetype": "text/x-python",
   "name": "python",
   "nbconvert_exporter": "python",
   "pygments_lexer": "ipython3",
   "version": "3.12.7"
  }
 },
 "nbformat": 4,
 "nbformat_minor": 5
}
