{
 "cells": [
  {
   "cell_type": "code",
   "execution_count": null,
   "id": "64cb683e",
   "metadata": {},
   "outputs": [
    {
     "name": "stdout",
     "output_type": "stream",
     "text": [
      "[121, 88]\n"
     ]
    }
   ],
   "source": [
    "def find_palindromes(lst):\n",
    "    return [num for num in lst if str(num) == str(num)[::-1]]\n",
    "\n",
    "\n",
    "print(find_palindromes([121, 133, 123, 88, 97]))  \n"
   ]
  }
 ],
 "metadata": {
  "kernelspec": {
   "display_name": "base",
   "language": "python",
   "name": "python3"
  },
  "language_info": {
   "codemirror_mode": {
    "name": "ipython",
    "version": 3
   },
   "file_extension": ".py",
   "mimetype": "text/x-python",
   "name": "python",
   "nbconvert_exporter": "python",
   "pygments_lexer": "ipython3",
   "version": "3.12.7"
  }
 },
 "nbformat": 4,
 "nbformat_minor": 5
}
