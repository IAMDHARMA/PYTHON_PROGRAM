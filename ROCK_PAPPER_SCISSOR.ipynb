{
 "cells": [
  {
   "cell_type": "code",
   "execution_count": null,
   "id": "ebe9a933",
   "metadata": {},
   "outputs": [
    {
     "name": "stdout",
     "output_type": "stream",
     "text": [
      "Computer chose: rock\n",
      "It's a tie!\n",
      "Score => You: 0 Computer: 0\n",
      "------------------------------\n",
      "Invalid input. Try again.\n",
      "Invalid input. Try again.\n",
      "Invalid input. Try again.\n"
     ]
    }
   ],
   "source": [
    "import random\n",
    "\n",
    "user = 0\n",
    "computer = 0\n",
    "\n",
    "options = [\"rock\", \"paper\", \"scissors\"]\n",
    "\n",
    "while True:\n",
    "    user_type = input(\"Type rock/paper/scissors or Exit: \").lower()\n",
    "    \n",
    "    if user_type == \"exit\":\n",
    "        print(\"Game Over!\")\n",
    "        print(\"Your score:\", user)\n",
    "        print(\"Computer score:\", computer)\n",
    "        break\n",
    "\n",
    "    if user_type not in options:\n",
    "        print(\"Invalid input. Try again.\")\n",
    "        continue\n",
    "\n",
    "    random_number = random.randint(0, 2)\n",
    "    computer_type = options[random_number]\n",
    "\n",
    "    print(\"Computer chose:\", computer_type)\n",
    "\n",
    "    if user_type == computer_type:\n",
    "        print(\"It's a tie!\")\n",
    "\n",
    "    elif user_type == \"rock\" and computer_type == \"scissors\":\n",
    "        print(\"You win!\")\n",
    "        user += 1\n",
    "\n",
    "    elif user_type == \"paper\" and computer_type == \"rock\":\n",
    "        print(\"You win!\")\n",
    "        user += 1\n",
    "\n",
    "    elif user_type == \"scissors\" and computer_type == \"paper\":\n",
    "        print(\"You win!\")\n",
    "        user += 1\n",
    "\n",
    "    else:\n",
    "        print(\"You lost!\")\n",
    "        computer += 1\n",
    "\n",
    "    print(\"Score => You:\", user, \"Computer:\", computer)\n",
    "    print(\"-\" * 30)"
   ]
  }
 ],
 "metadata": {
  "kernelspec": {
   "display_name": "base",
   "language": "python",
   "name": "python3"
  },
  "language_info": {
   "codemirror_mode": {
    "name": "ipython",
    "version": 3
   },
   "file_extension": ".py",
   "mimetype": "text/x-python",
   "name": "python",
   "nbconvert_exporter": "python",
   "pygments_lexer": "ipython3",
   "version": "3.12.7"
  }
 },
 "nbformat": 4,
 "nbformat_minor": 5
}
