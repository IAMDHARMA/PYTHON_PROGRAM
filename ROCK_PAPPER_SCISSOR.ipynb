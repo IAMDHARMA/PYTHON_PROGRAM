{
 "cells": [
  {
   "cell_type": "code",
   "execution_count": null,
   "id": "364622b9",
   "metadata": {},
   "outputs": [],
   "source": [
    "import random\n",
    "\n",
    "user = 0\n",
    "computer = 0\n",
    "\n",
    "options = [\"rock\", \"paper\", \"scissors\"]\n",
    "\n",
    "while True:\n",
    "    user_type = input(\"Type rock/paper/scissors or Exit: \").lower()\n",
    "    \n",
    "    if user_type == \"exit\":\n",
    "        print(\"Game Over!\")\n",
    "        print(\"Your score:\", user)\n",
    "        print(\"Computer score:\", computer)\n",
    "        break\n",
    "\n",
    "    if user_type not in options:\n",
    "        print(\"Invalid input. Try again.\")\n",
    "        continue\n",
    "\n",
    "    random_number = random.randint(0, 2)\n",
    "    computer_type = options[random_number]\n",
    "\n",
    "    print(\"Computer chose:\", computer_type)\n",
    "\n",
    "    if user_type == computer_type:\n",
    "        print(\"It's a tie!\")\n",
    "\n",
    "    elif user_type == \"rock\" and computer_type == \"scissors\":\n",
    "        print(\"You win!\")\n",
    "        user += 1\n",
    "\n",
    "    elif user_type == \"paper\" and computer_type == \"rock\":\n",
    "        print(\"You win!\")\n",
    "        user += 1\n",
    "\n",
    "    elif user_type == \"scissors\" and computer_type == \"paper\":\n",
    "        print(\"You win!\")\n",
    "        user += 1\n",
    "\n",
    "    else:\n",
    "        print(\"You lost!\")\n",
    "        computer += 1\n",
    "\n",
    "    print(\"Score => You:\", user, \"Computer:\", computer)\n",
    "    print(\"-\" * 30)"
   ]
  }
 ],
 "metadata": {
  "language_info": {
   "name": "python"
  }
 },
 "nbformat": 4,
 "nbformat_minor": 5
}
