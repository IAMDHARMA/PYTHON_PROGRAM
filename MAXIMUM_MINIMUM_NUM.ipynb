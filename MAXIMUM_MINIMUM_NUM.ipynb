{
 "cells": [
  {
   "cell_type": "markdown",
   "id": "a34b669c",
   "metadata": {},
   "source": [
    "3. Find Maximum and Minimum Number\n",
    "\n",
    "Problem: Find the max and min number from a list.\n",
    "\n",
    "Sample Input:\n",
    "\n",
    "numbers = [12, 45, 7, 89, 23]\n",
    "\n",
    "Sample Output:\n",
    "\n",
    "Max: 89, Min: 7\n"
   ]
  },
  {
   "cell_type": "code",
   "execution_count": 6,
   "id": "00ec5584",
   "metadata": {},
   "outputs": [
    {
     "name": "stdout",
     "output_type": "stream",
     "text": [
      "89 --maximum num\n",
      "7 --minmum num\n"
     ]
    }
   ],
   "source": [
    "number=[12,45,7,89,23]\n",
    "maximum=max(number)\n",
    "minimum=min(number)\n",
    "print(maximum,\"--maximum num\")\n",
    "print(minimum,\"--minmum num\")\n"
   ]
  },
  {
   "cell_type": "code",
   "execution_count": 2,
   "id": "5494ae49",
   "metadata": {},
   "outputs": [
    {
     "name": "stdout",
     "output_type": "stream",
     "text": [
      "89 --maximum num\n",
      "7 --minimum num\n"
     ]
    }
   ],
   "source": [
    "number=[12,45,7,89,23]\n",
    "maximum=number[0]\n",
    "minimum=number[0]\n",
    "for num in number:\n",
    "    if num > maximum:\n",
    "      maximum=num\n",
    "    if num < minimum:\n",
    "       minimum=num\n",
    "      \n",
    "print(maximum,\"--maximum num\")\n",
    "print(minimum,\"--minimum num\")  "
   ]
  },
  {
   "cell_type": "code",
   "execution_count": 15,
   "id": "1c19f660",
   "metadata": {},
   "outputs": [
    {
     "name": "stdout",
     "output_type": "stream",
     "text": [
      "9 --maximum num\n",
      "1 --minimum num\n"
     ]
    }
   ],
   "source": [
    "def maxi(*numbers):\n",
    "    maximum=numbers[0]\n",
    "    for num in numbers:\n",
    "        if num>maximum:\n",
    "            maximum=num\n",
    "    print(maximum,\"--maximum num\")\n",
    "maxi(1,3,9,2,4)\n",
    "\n",
    "def mini(*numbers):\n",
    "    minimum=numbers[0]\n",
    "    for num in numbers:\n",
    "        if num<minimum:\n",
    "            minimum=num\n",
    "    print(minimum,\"--minimum num\")\n",
    "\n",
    "mini(1,2,3,4,1)"
   ]
  }
 ],
 "metadata": {
  "kernelspec": {
   "display_name": "base",
   "language": "python",
   "name": "python3"
  },
  "language_info": {
   "codemirror_mode": {
    "name": "ipython",
    "version": 3
   },
   "file_extension": ".py",
   "mimetype": "text/x-python",
   "name": "python",
   "nbconvert_exporter": "python",
   "pygments_lexer": "ipython3",
   "version": "3.12.7"
  }
 },
 "nbformat": 4,
 "nbformat_minor": 5
}
