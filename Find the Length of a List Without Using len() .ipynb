{
 "cells": [
  {
   "cell_type": "code",
   "execution_count": null,
   "id": "6399bc60",
   "metadata": {},
   "outputs": [],
   "source": [
    "def list_length(lst):\n",
    "    count = 0\n",
    "    for _ in lst:\n",
    "        count += 1\n",
    "    return count\n",
    "\n",
    "# Example usage\n",
    "my_list = [10, 20, 30, 40]\n",
    "print(\"Length:\", list_length(my_list))\n"
   ]
  }
 ],
 "metadata": {
  "language_info": {
   "name": "python"
  }
 },
 "nbformat": 4,
 "nbformat_minor": 5
}
